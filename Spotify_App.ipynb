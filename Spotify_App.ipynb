{
  "nbformat": 4,
  "nbformat_minor": 0,
  "metadata": {
    "colab": {
      "provenance": []
    },
    "kernelspec": {
      "name": "python3",
      "display_name": "Python 3"
    },
    "language_info": {
      "name": "python"
    }
  },
  "cells": [
    {
      "cell_type": "markdown",
      "source": [
        "##Installs"
      ],
      "metadata": {
        "id": "lNz17XK5ahuA"
      }
    },
    {
      "cell_type": "code",
      "source": [
        "!pip install requests"
      ],
      "metadata": {
        "id": "JQ1s6_HJaBoa"
      },
      "execution_count": null,
      "outputs": []
    },
    {
      "cell_type": "code",
      "source": [
        "!pip install spotipy"
      ],
      "metadata": {
        "id": "XnzbDFw0aRTV"
      },
      "execution_count": null,
      "outputs": []
    },
    {
      "cell_type": "code",
      "source": [
        "!pip install numpy"
      ],
      "metadata": {
        "id": "HYxH66ojaO5S"
      },
      "execution_count": null,
      "outputs": []
    },
    {
      "cell_type": "code",
      "source": [
        "!pip install pandas"
      ],
      "metadata": {
        "id": "RcJy_aLcaMsv"
      },
      "execution_count": null,
      "outputs": []
    },
    {
      "cell_type": "markdown",
      "source": [
        "##Code"
      ],
      "metadata": {
        "id": "_tcjKbU1anJR"
      }
    },
    {
      "cell_type": "markdown",
      "source": [
        "Imports"
      ],
      "metadata": {
        "id": "D4av75Osaqf3"
      }
    },
    {
      "cell_type": "code",
      "execution_count": null,
      "metadata": {
        "id": "cWrnrZ7gZpLr"
      },
      "outputs": [],
      "source": [
        "import requests\n",
        "import numpy as np\n",
        "import pandas as pd\n",
        "from pprint import pprint\n",
        "import json"
      ]
    },
    {
      "cell_type": "markdown",
      "source": [
        "###Create playlist"
      ],
      "metadata": {
        "id": "rp1B5g4-whOX"
      }
    },
    {
      "cell_type": "code",
      "source": [
        "url_playlists = 'https://api.spotify.com/v1/users/rebel.kim73/playlists'\n",
        "access_token = 'BQBxUoQJj4zvk5SQICeQ5uSNSfR9KAzNAWHTHufAXEGRjUagebhhg2meUkGkHCSdSjmnhytg3gRTuMOuVwSBIB5'"
      ],
      "metadata": {
        "id": "BRexZkxIa4ZA"
      },
      "execution_count": null,
      "outputs": []
    },
    {
      "cell_type": "code",
      "source": [
        "import requests\n",
        "def create_playlist(name, descripcion, public):\n",
        "  response = requests.request(\n",
        "      'POST',\n",
        "      url_playlists,\n",
        "      headers = {\n",
        "          'Accept':'application/json',\n",
        "          'Content-Type':'application/json',\n",
        "          'Authorization':f\"Bearer {access_token}\"\n",
        "      },\n",
        "      json={\n",
        "          'name' : name,\n",
        "          'description':descripcion,\n",
        "          'public' : public\n",
        "      }\n",
        "  )\n",
        "  json_resp = response.json()\n",
        "  return json_resp"
      ],
      "metadata": {
        "id": "9oBMDQCza7uc"
      },
      "execution_count": null,
      "outputs": []
    },
    {
      "cell_type": "code",
      "source": [
        "def main():\n",
        "  playlist = create_playlist(\n",
        "      name = 'Playlist de Prueba',\n",
        "      descripcion = \"Descripcion generica\",\n",
        "      public = False\n",
        "  )\n",
        "  print(f\"Playlist: {playlist}\")"
      ],
      "metadata": {
        "id": "OwwH_d8isLTq"
      },
      "execution_count": null,
      "outputs": []
    },
    {
      "cell_type": "code",
      "source": [
        "main()"
      ],
      "metadata": {
        "colab": {
          "base_uri": "https://localhost:8080/"
        },
        "id": "MLu4j_in14TR",
        "outputId": "fcba1cbe-8d54-41ba-a19c-0c1cb397ab39"
      },
      "execution_count": null,
      "outputs": [
        {
          "output_type": "stream",
          "name": "stdout",
          "text": [
            "Playlist: {'collaborative': False, 'description': 'Descripcion generica', 'external_urls': {'spotify': 'https://open.spotify.com/playlist/3szeX1hCusA1cMFoXtiMbw'}, 'followers': {'href': None, 'total': 0}, 'href': 'https://api.spotify.com/v1/playlists/3szeX1hCusA1cMFoXtiMbw', 'id': '3szeX1hCusA1cMFoXtiMbw', 'images': [], 'name': 'Playlist de Prueba', 'owner': {'display_name': 'rebel.kim73', 'external_urls': {'spotify': 'https://open.spotify.com/user/rebel.kim73'}, 'href': 'https://api.spotify.com/v1/users/rebel.kim73', 'id': 'rebel.kim73', 'type': 'user', 'uri': 'spotify:user:rebel.kim73'}, 'primary_color': None, 'public': False, 'snapshot_id': 'MSw2NjliZGQzY2U4NWMzODkzYTNmZjc0ODQ3ZjI3M2JmYWViMDNkMDE0', 'tracks': {'href': 'https://api.spotify.com/v1/playlists/3szeX1hCusA1cMFoXtiMbw/tracks', 'items': [], 'limit': 100, 'next': None, 'offset': 0, 'previous': None, 'total': 0}, 'type': 'playlist', 'uri': 'spotify:playlist:3szeX1hCusA1cMFoXtiMbw'}\n"
          ]
        }
      ]
    },
    {
      "cell_type": "markdown",
      "source": [
        "STILL NOT WORKING"
      ],
      "metadata": {
        "id": "T7JC_CMXqv3M"
      }
    },
    {
      "cell_type": "markdown",
      "source": [
        "main()"
      ],
      "metadata": {
        "id": "Svr99vw0qDls"
      }
    },
    {
      "cell_type": "markdown",
      "source": [
        "##See Artists Top Albums"
      ],
      "metadata": {
        "id": "dnlHbDKY6OrO"
      }
    },
    {
      "cell_type": "code",
      "source": [
        "artist_id = [\n",
        "    '4q3ewBCX7sLwd24euuV69X', #Bad Bunny\n",
        "    '06HL4z0CvFAxyc27GXpf02', #Taylor Switf\n",
        "    '1Xyo4u8uXC1ZmMpatF05PJ', #The Weekend\n",
        "    '4gzpq5DPGxSnKTe4SA8HAU', #Coldplay\n",
        "    '3Nrfpe0tUJi4K4DXYWgMUX' #BTS (Banda Tierra Sagrada)\n",
        "]"
      ],
      "metadata": {
        "id": "SQNFHA8tD2qN"
      },
      "execution_count": null,
      "outputs": []
    },
    {
      "cell_type": "code",
      "source": [
        "for artist in artist_id:\n",
        "  print(f'Artist_id: {artist}')"
      ],
      "metadata": {
        "colab": {
          "base_uri": "https://localhost:8080/"
        },
        "id": "pqSClz67E3wG",
        "outputId": "bc435695-0566-4b01-b581-8d2ac00efb92"
      },
      "execution_count": null,
      "outputs": [
        {
          "output_type": "stream",
          "name": "stdout",
          "text": [
            "Artist_id: 4q3ewBCX7sLwd24euuV69X\n",
            "Artist_id: 06HL4z0CvFAxyc27GXpf02\n",
            "Artist_id: 1Xyo4u8uXC1ZmMpatF05PJ\n",
            "Artist_id: 4gzpq5DPGxSnKTe4SA8HAU\n",
            "Artist_id: 3Nrfpe0tUJi4K4DXYWgMUX\n"
          ]
        }
      ]
    },
    {
      "cell_type": "code",
      "source": [
        "access_token = 'BQCplQAUsFx9xDG3Kj_H1i6do4hKCYMaKyNM0WQCznuGQGmxgSBnA2qfQAIuTcjlEyXFPw0u7dQGTNzO90Z-n776_5v89VqxbAgFLHL8Kfqstv_2AZ1lVtpe_k9ah2n3yptIf3Cwpw44nJ5YVXlpH7zZQWkGLiiX-gTIS1YBHo_gKqhK-A'"
      ],
      "metadata": {
        "id": "XE3C5bHRHHmt"
      },
      "execution_count": null,
      "outputs": []
    },
    {
      "cell_type": "code",
      "source": [
        "def artistTopTracks(url):\n",
        "  response = requests.request(\n",
        "      'GET',\n",
        "      url,\n",
        "      headers = {\n",
        "          'Accept':'application/json',\n",
        "          'Content-Type':'application/json',\n",
        "          'Authorization':f\"Bearer {access_token}\"\n",
        "      }\n",
        "  )\n",
        "  return response"
      ],
      "metadata": {
        "id": "bzemSD-JFAct"
      },
      "execution_count": null,
      "outputs": []
    },
    {
      "cell_type": "code",
      "source": [
        "def main_artist_tt():\n",
        "  tracks = artistTopTracks(\n",
        "      url = f'https://api.spotify.com/v1/artists/{artist_id[3]}/top-tracks?market=ES'\n",
        "  )\n",
        "  return tracks"
      ],
      "metadata": {
        "id": "TXfnnAl-IC-W"
      },
      "execution_count": null,
      "outputs": []
    },
    {
      "cell_type": "code",
      "source": [
        "artist_json = main_artist_tt().json()"
      ],
      "metadata": {
        "id": "pIIkIspXRu1m"
      },
      "execution_count": null,
      "outputs": []
    },
    {
      "cell_type": "code",
      "source": [
        "pprint(artist_json)"
      ],
      "metadata": {
        "id": "uigO2OtDUX8V"
      },
      "execution_count": null,
      "outputs": []
    },
    {
      "cell_type": "code",
      "source": [
        "parametros = [\n",
        "    'name',\n",
        "    'total_tracks',\n",
        "    'id'\n",
        "    ]"
      ],
      "metadata": {
        "id": "e8XjGuCPQMSZ"
      },
      "execution_count": null,
      "outputs": []
    },
    {
      "cell_type": "code",
      "source": [
        "for param in parametros:\n",
        "  pprint(artist_json['tracks'][0]['album'][param])"
      ],
      "metadata": {
        "colab": {
          "base_uri": "https://localhost:8080/"
        },
        "id": "S298mJESJm1B",
        "outputId": "5b7b8518-fa3b-48f3-ccc7-5bcccda6d4af"
      },
      "execution_count": null,
      "outputs": [
        {
          "output_type": "stream",
          "name": "stdout",
          "text": [
            "'Parachutes'\n",
            "10\n",
            "'6ZG5lRT77aJ3btmArcykra'\n"
          ]
        }
      ]
    },
    {
      "cell_type": "code",
      "source": [
        "for i in range(10):\n",
        "  pprint(f'------Album: {i+1}------')\n",
        "  for param in parametros:\n",
        "    pprint(artist_json['tracks'][i]['album'][param])"
      ],
      "metadata": {
        "colab": {
          "base_uri": "https://localhost:8080/"
        },
        "id": "xKsoYzCRSJVz",
        "outputId": "f2479f3f-8e37-4b7f-b3de-d1322792a269"
      },
      "execution_count": null,
      "outputs": [
        {
          "output_type": "stream",
          "name": "stdout",
          "text": [
            "'------Album: 1------'\n",
            "'Parachutes'\n",
            "10\n",
            "'6ZG5lRT77aJ3btmArcykra'\n",
            "'------Album: 2------'\n",
            "'Viva La Vida or Death and All His Friends'\n",
            "10\n",
            "'1CEODgTmTwLyabvwd7HBty'\n",
            "'------Album: 3------'\n",
            "'Parachutes'\n",
            "10\n",
            "'6ZG5lRT77aJ3btmArcykra'\n",
            "'------Album: 4------'\n",
            "'Memories...Do Not Open'\n",
            "12\n",
            "'4JPguzRps3kuWDD5GS6oXr'\n",
            "'------Album: 5------'\n",
            "'A Rush of Blood to the Head'\n",
            "11\n",
            "'0RHX9XECH8IVI3LNgWDpmQ'\n",
            "'------Album: 6------'\n",
            "'Ghost Stories'\n",
            "9\n",
            "'2G4AUqfwxcV1UdQjm2ouYr'\n",
            "'------Album: 7------'\n",
            "'Mylo Xyloto'\n",
            "14\n",
            "'2R7iJz5uaHjLEVnMkloO18'\n",
            "'------Album: 8------'\n",
            "'A Head Full of Dreams'\n",
            "11\n",
            "'3cfAM8b8KqJRoIzt3zLKqw'\n",
            "'------Album: 9------'\n",
            "'Music Of The Spheres'\n",
            "12\n",
            "'06mXfvDsRZNfnsGZvX2zpb'\n",
            "'------Album: 10------'\n",
            "'X&Y'\n",
            "13\n",
            "'4E7bV0pzG0LciBSWTszra6'\n"
          ]
        }
      ]
    },
    {
      "cell_type": "markdown",
      "source": [
        "Save album's id"
      ],
      "metadata": {
        "id": "Bwfv9Mqelw-v"
      }
    },
    {
      "cell_type": "code",
      "source": [
        "albums_id = {\n",
        "    'name':[],\n",
        "    'id':[]\n",
        "}"
      ],
      "metadata": {
        "id": "QJhJ2x-ZmNAc"
      },
      "execution_count": null,
      "outputs": []
    },
    {
      "cell_type": "code",
      "source": [
        "for i in range(10):\n",
        "  albums_id['name'].append(artist_json['tracks'][i]['album']['name'])\n",
        "  albums_id['id'].append(artist_json['tracks'][i]['album']['id'])"
      ],
      "metadata": {
        "id": "NdHWjo6C7Ncs"
      },
      "execution_count": null,
      "outputs": []
    },
    {
      "cell_type": "code",
      "source": [
        "pprint(albums_id)"
      ],
      "metadata": {
        "colab": {
          "base_uri": "https://localhost:8080/"
        },
        "id": "CObolkZznIis",
        "outputId": "6baaa38d-fd7e-41da-c4d8-be66e836af34"
      },
      "execution_count": null,
      "outputs": [
        {
          "output_type": "stream",
          "name": "stdout",
          "text": [
            "{'id': ['6ZG5lRT77aJ3btmArcykra',\n",
            "        '1CEODgTmTwLyabvwd7HBty',\n",
            "        '6ZG5lRT77aJ3btmArcykra',\n",
            "        '4JPguzRps3kuWDD5GS6oXr',\n",
            "        '0RHX9XECH8IVI3LNgWDpmQ',\n",
            "        '2G4AUqfwxcV1UdQjm2ouYr',\n",
            "        '2R7iJz5uaHjLEVnMkloO18',\n",
            "        '3cfAM8b8KqJRoIzt3zLKqw',\n",
            "        '06mXfvDsRZNfnsGZvX2zpb',\n",
            "        '4E7bV0pzG0LciBSWTszra6'],\n",
            " 'name': ['Parachutes',\n",
            "          'Viva La Vida or Death and All His Friends',\n",
            "          'Parachutes',\n",
            "          'Memories...Do Not Open',\n",
            "          'A Rush of Blood to the Head',\n",
            "          'Ghost Stories',\n",
            "          'Mylo Xyloto',\n",
            "          'A Head Full of Dreams',\n",
            "          'Music Of The Spheres',\n",
            "          'X&Y']}\n"
          ]
        }
      ]
    },
    {
      "cell_type": "markdown",
      "source": [
        "##Add Items to a playlist\n"
      ],
      "metadata": {
        "id": "xqaTulR-wj8M"
      }
    },
    {
      "cell_type": "markdown",
      "source": [
        "Primero obtenemos las playlists del Usuario"
      ],
      "metadata": {
        "id": "IkgW7qB7xDN6"
      }
    },
    {
      "cell_type": "code",
      "source": [
        "url = 'https://api.spotify.com/v1/users/rebel.kim73/playlists'\n",
        "access_token = 'BQAxgaNnZM4G5QOsVHKn7Lg1YdHNxxRABqgghXecFJUBD8Vylc5vEJBkeorGqt50I-85tis_K3_RcXEzBjfTDSNEPv1HR-NFytCwyDLJcGQM-T8IqrrwB9VbbvhWTv-tzQtMhAWt3XmCD9vhf4duzFbSNpm96YnkFHV7GJMfg8ykL1K0xvO2HB-dWLljhuI'"
      ],
      "metadata": {
        "id": "EXfg44KdxLgL"
      },
      "execution_count": null,
      "outputs": []
    },
    {
      "cell_type": "code",
      "source": [
        "def users_playlists():\n",
        "  response = requests.request(\n",
        "      'GET',\n",
        "      url,\n",
        "      headers = {\n",
        "          'Accept':'application/json',\n",
        "          'Content-Type':'application/json',\n",
        "          'Authorization':f\"Bearer {access_token}\"\n",
        "      }\n",
        "  )\n",
        "  return response"
      ],
      "metadata": {
        "id": "9670vsVpwppK"
      },
      "execution_count": null,
      "outputs": []
    },
    {
      "cell_type": "code",
      "source": [
        "json_resp = users_playlists().json()"
      ],
      "metadata": {
        "id": "rLAfs86aiXzl"
      },
      "execution_count": null,
      "outputs": []
    },
    {
      "cell_type": "code",
      "source": [
        "parametros = [\n",
        "    'name',\n",
        "    'public',\n",
        "    'id'\n",
        "]"
      ],
      "metadata": {
        "id": "87kJ68kLipmv"
      },
      "execution_count": null,
      "outputs": []
    },
    {
      "cell_type": "code",
      "source": [
        "for playlist in range(20):\n",
        "  pprint(f'----Playlist: {playlist+1} ----')\n",
        "  for parametro in parametros:\n",
        "    pprint(json_resp['items'][playlist][parametro])"
      ],
      "metadata": {
        "id": "QWVct7xHiJmK"
      },
      "execution_count": null,
      "outputs": []
    },
    {
      "cell_type": "code",
      "source": [
        "pprint(json_resp['items'][0])"
      ],
      "metadata": {
        "id": "ZqME4bslyxVv",
        "colab": {
          "base_uri": "https://localhost:8080/"
        },
        "outputId": "aedeae09-36ec-4f70-9425-c62b6a30c922"
      },
      "execution_count": null,
      "outputs": [
        {
          "output_type": "stream",
          "name": "stdout",
          "text": [
            "{'collaborative': False,\n",
            " 'description': 'Descripcion generica',\n",
            " 'external_urls': {'spotify': 'https://open.spotify.com/playlist/3szeX1hCusA1cMFoXtiMbw'},\n",
            " 'href': 'https://api.spotify.com/v1/playlists/3szeX1hCusA1cMFoXtiMbw',\n",
            " 'id': '3szeX1hCusA1cMFoXtiMbw',\n",
            " 'images': [],\n",
            " 'name': 'Playlist de Prueba',\n",
            " 'owner': {'display_name': 'rebel.kim73',\n",
            "           'external_urls': {'spotify': 'https://open.spotify.com/user/rebel.kim73'},\n",
            "           'href': 'https://api.spotify.com/v1/users/rebel.kim73',\n",
            "           'id': 'rebel.kim73',\n",
            "           'type': 'user',\n",
            "           'uri': 'spotify:user:rebel.kim73'},\n",
            " 'primary_color': None,\n",
            " 'public': False,\n",
            " 'snapshot_id': 'MiwwZDY3N2ZkMTFiYWEwNmEwZWQwZmQ0YzMzY2UxYzlhMmRjZmEzMzRl',\n",
            " 'tracks': {'href': 'https://api.spotify.com/v1/playlists/3szeX1hCusA1cMFoXtiMbw/tracks',\n",
            "            'total': 0},\n",
            " 'type': 'playlist',\n",
            " 'uri': 'spotify:playlist:3szeX1hCusA1cMFoXtiMbw'}\n"
          ]
        }
      ]
    },
    {
      "cell_type": "markdown",
      "source": [
        "URIS"
      ],
      "metadata": {
        "id": "4QXE_QDDf_KC"
      }
    },
    {
      "cell_type": "code",
      "source": [
        "\n",
        "uris=[\n",
        "    'spotify:track:6UN73IYd0hZxLi8wFPMQij',#Players Coi Leray\n",
        "    'spotify:track:6mYrhCAGWzTdF8QnKuchXM',#If I Could Turn Back Time\n",
        "    'spotify:track:7DfX6Bou8XXAxkWSUt18LD',#TOXIC\n",
        "    'spotify:track:5vmRQ3zELMLUQPo2FLQ76x'#Smalltown Boy\n",
        "]\n"
      ],
      "metadata": {
        "id": "aac4EJ8XgAFN"
      },
      "execution_count": null,
      "outputs": []
    },
    {
      "cell_type": "code",
      "source": [
        "url = 'https://api.spotify.com/v1/playlists/5iasOQB15iW5hz24Dxvuhu/tracks'\n",
        "access_token = 'BQDZdk3hLAxxf5c78fk08SZHd8RVmxl7PfSajl0Oj1LhI7rvEp9OdpgncX1jyp3jniLMQLQDyBi_bcOowG4E1kazkABqdkhczkdLJBMH4xGXFvPk4IdhTD4cjOT0MilEVq5aueDtSJB5__d47T9WqFXDjnERKVZieK_3rPliJSdeQaQ8NgLQ3zjduCZZzbPbapUDvq9aOiWfWczO2za19rLNEO2q01SWvIP81ASgTmfGI74'\n"
      ],
      "metadata": {
        "id": "oFLlc9UShXrl"
      },
      "execution_count": null,
      "outputs": []
    },
    {
      "cell_type": "code",
      "source": [
        "def add_items_playlist(uris, position):\n",
        "  response = requests.request(\n",
        "      'POST',\n",
        "      url,\n",
        "      headers = {\n",
        "          'Accept':'application/json',\n",
        "          'Content-Type':'application/json',\n",
        "          'Authorization':f'Bearer {access_token}'\n",
        "      },\n",
        "      json = {\n",
        "          'uris':uris,\n",
        "          'position':position\n",
        "      }\n",
        "  )\n",
        "  jsonresp = response.json()\n",
        "  return jsonresp"
      ],
      "metadata": {
        "id": "JnStLwschtg6"
      },
      "execution_count": null,
      "outputs": []
    },
    {
      "cell_type": "code",
      "source": [
        "from pprint import pprint\n",
        "def main_items_playlist():\n",
        "  items = add_items_playlist(\n",
        "      uris = [\n",
        "        'spotify:track:6UN73IYd0hZxLi8wFPMQij',#Players Coi Leray\n",
        "        'spotify:track:6mYrhCAGWzTdF8QnKuchXM',#If I Could Turn Back Time\n",
        "        'spotify:track:7DfX6Bou8XXAxkWSUt18LD',#TOXIC\n",
        "        'spotify:track:5vmRQ3zELMLUQPo2FLQ76x'#Smalltown Boy\n",
        "    ],\n",
        "      position = 0\n",
        "  )\n",
        "  pprint(f'Playlist: {items}')"
      ],
      "metadata": {
        "id": "jnT3beakjhGV"
      },
      "execution_count": null,
      "outputs": []
    },
    {
      "cell_type": "code",
      "source": [
        "main_items_playlist(\n",
        "    \n",
        ")"
      ],
      "metadata": {
        "colab": {
          "base_uri": "https://localhost:8080/"
        },
        "id": "KDUUPf8RkHa2",
        "outputId": "573c84d5-b8ad-4319-90c8-d4716093d11c"
      },
      "execution_count": null,
      "outputs": [
        {
          "output_type": "stream",
          "name": "stdout",
          "text": [
            "(\"Playlist: {'snapshot_id': \"\n",
            " \"'Myw5ODdmYzYwNDYyNmFmZjBkMDVkYjAwNGY4ZWViYzJkNTIzNGMwNTk1'}\")\n"
          ]
        }
      ]
    },
    {
      "cell_type": "markdown",
      "source": [
        "##GET Album Tracks"
      ],
      "metadata": {
        "id": "9kDfWSN8bqGX"
      }
    },
    {
      "cell_type": "code",
      "source": [],
      "metadata": {
        "id": "PCDxzJ6RbtL2"
      },
      "execution_count": null,
      "outputs": []
    }
  ]
}